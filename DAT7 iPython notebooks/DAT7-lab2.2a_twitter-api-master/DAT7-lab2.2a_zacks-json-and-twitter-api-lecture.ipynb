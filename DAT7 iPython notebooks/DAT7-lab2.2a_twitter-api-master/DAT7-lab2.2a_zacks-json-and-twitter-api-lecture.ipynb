{
 "metadata": {
  "name": "",
  "signature": "sha256:cb9219ae2877f7e1fb72c98a908d77e95b356e6a6d5460c438d41cb7590e7a26"
 },
 "nbformat": 3,
 "nbformat_minor": 0,
 "worksheets": [
  {
   "cells": [
    {
     "cell_type": "markdown",
     "metadata": {
      "slideshow": {
       "slide_type": "slide"
      }
     },
     "source": [
      "# GA Data Science 7 (DAT7) - Lab2.1"
     ]
    },
    {
     "cell_type": "markdown",
     "metadata": {
      "slideshow": {
       "slide_type": "slide"
      }
     },
     "source": [
      "Today we will be learning about the data file type called JSON, that is used alot with many companies API's\n",
      "- http://jsonviewer.stack.hu/\n",
      "- http://jsonlint.com/"
     ]
    },
    {
     "cell_type": "heading",
     "level": 1,
     "metadata": {
      "slideshow": {
       "slide_type": "slide"
      }
     },
     "source": [
      "1. JSON"
     ]
    },
    {
     "cell_type": "markdown",
     "metadata": {
      "slideshow": {
       "slide_type": "slide"
      }
     },
     "source": [
      "- What's Json? (and why do we care?)\n",
      "- http://www.reddit.com/r/funny/.json"
     ]
    },
    {
     "cell_type": "markdown",
     "metadata": {},
     "source": [
      "## 2 A simple web request"
     ]
    },
    {
     "cell_type": "code",
     "collapsed": false,
     "input": [
      "import urllib\n",
      "import json\n",
      "url = \"http://www.reddit.com/r/funny/.json\"\n",
      "data = urllib.urlopen(url).read()\n",
      "\n",
      "#### THIS IS NOW JUST A STRING, \n",
      "#### PYTHON DOESN'T YET KNOW IT IS A JSON OBJECT\n",
      "print type(data)\n"
     ],
     "language": "python",
     "metadata": {},
     "outputs": [
      {
       "output_type": "stream",
       "stream": "stdout",
       "text": [
        "<type 'str'>\n"
       ]
      }
     ],
     "prompt_number": 1
    },
    {
     "cell_type": "code",
     "collapsed": false,
     "input": [
      "##### json.loads(data)  is how you convert a string to a dictionary (which is basically a JSON)\n",
      "##### \n",
      "jdata = json.loads(data)\n",
      "\n",
      "#### SEE NOW IT IS A DICTIONARY\n",
      "print type(jdata)\n",
      "\n",
      "\n",
      "#### YOU CAN ASK DICTIONARY THINGS, LIKE WHAT KEYS THEY HAVE\n",
      "print jdata.keys()\n",
      "\n",
      "\n",
      "#### TO PRINT THE VALUES OF A KEY YOU DO THE FILNAME FOLLOWED BY THE KEY LIKE THIS\n",
      "####  jdata['KEY']\n",
      "\n",
      "#print jdata['data']\n",
      "\n",
      "##### SOMETIMES, THE VALUES OF THAT DICTIONARY, CAN ASLO BE KEYS THAT HAVE VALUES OF THEIR OWN\n",
      "##### YOU CAN THINK OF THEM LIKE PARENTS AND CHILDREN, \n",
      "# print jdata['data'].keys()\n",
      "\n",
      "# # print type(jdata['data']['children'])\n",
      "\n",
      "# # # print type(jdata)\n",
      "# # # print jdata.keys()\n",
      "# # # print jdata['kind']\n",
      "# # # print jdata['data']\n",
      "# # # df = pd.DataFrame(jdata['data']) NO NO NO\n"
     ],
     "language": "python",
     "metadata": {},
     "outputs": [
      {
       "output_type": "stream",
       "stream": "stdout",
       "text": [
        "<type 'dict'>\n",
        "[u'kind', u'data']\n"
       ]
      }
     ],
     "prompt_number": 2
    },
    {
     "cell_type": "heading",
     "level": 1,
     "metadata": {
      "slideshow": {
       "slide_type": "slide"
      }
     },
     "source": [
      "Twitter API"
     ]
    },
    {
     "cell_type": "markdown",
     "metadata": {
      "slideshow": {
       "slide_type": "notes"
      }
     },
     "source": [
      "Twitter has no less than 10 python libraries. We'll be using Python Twitter Tools because it's what's used in Mining the Social Web."
     ]
    },
    {
     "cell_type": "markdown",
     "metadata": {
      "slideshow": {
       "slide_type": "skip"
      }
     },
     "source": [
      "#### Some services (like Twitter) have released Python libraries of their own to make using their API even easier.\n"
     ]
    },
    {
     "cell_type": "code",
     "collapsed": false,
     "input": [
      "!pip install twitter\n"
     ],
     "language": "python",
     "metadata": {},
     "outputs": [
      {
       "output_type": "stream",
       "stream": "stdout",
       "text": [
        "Requirement already satisfied (use --upgrade to upgrade): twitter in /anaconda/lib/python2.7/site-packages\r\n",
        "Cleaning up...\r\n"
       ]
      }
     ],
     "prompt_number": 3
    },
    {
     "cell_type": "markdown",
     "metadata": {},
     "source": [
      "Here are the steps I took to get my own key, just follow along and you should be able to get yours too.<br>\n",
      "Once you get your access tokens, then go on and do the LAB located here: http://tinyurl.com/GAtwitterlab up through Exercise 5."
     ]
    },
    {
     "cell_type": "markdown",
     "metadata": {},
     "source": [
      "# THIS IS HOW YOU GET YOUR ACCESS TOKES FOR TWITTERS API\n",
      "#### go to https://dev.twitter.com/ \n",
      "\n",
      "#### sign in, then click on your icon in the top right, and in that dropdown menu click 'MY APPLICATIONS' or 'CREATE APPLICATION'\n",
      "![alt text](https://raw.githubusercontent.com/zd123/twitter-api/master/twitter-tutorial-screenshots/1-twitter.png)\n"
     ]
    },
    {
     "cell_type": "markdown",
     "metadata": {},
     "source": [
      "![](https://raw.githubusercontent.com/zd123/twitter-api/master/twitter-tutorial-screenshots/3-twitter.png)"
     ]
    },
    {
     "cell_type": "markdown",
     "metadata": {},
     "source": [
      "![alt text](https://raw.githubusercontent.com/zd123/twitter-api/master/twitter-tutorial-screenshots/4-twitter.png)\n"
     ]
    },
    {
     "cell_type": "markdown",
     "metadata": {},
     "source": [
      "![](https://raw.githubusercontent.com/zd123/twitter-api/master/twitter-tutorial-screenshots/6-twitter-click-on-api-keys-tab.png)"
     ]
    },
    {
     "cell_type": "markdown",
     "metadata": {},
     "source": [
      "![](https://raw.githubusercontent.com/zd123/twitter-api/master/twitter-tutorial-screenshots/7-twitter-clicked-on-gen-my-access-token.png)"
     ]
    },
    {
     "cell_type": "markdown",
     "metadata": {},
     "source": [
      "![](https://raw.githubusercontent.com/zd123/twitter-api/master/twitter-tutorial-screenshots/8-done.png)"
     ]
    },
    {
     "cell_type": "markdown",
     "metadata": {},
     "source": [
      "Once you have your access tokens, go onto to complete the Twitter Lab located here: http://tinyurl.com/GAtwitterlab"
     ]
    },
    {
     "cell_type": "code",
     "collapsed": false,
     "input": [
      "#note must use above steps to recieve your own keys\n",
      "\n",
      "CONSUMER_KEY = '4d2pKEOxr30DvRY07GzhE3rdd'\n",
      "CONSUMER_SECRET ='05N2RngnQA1fsJ0shuvXrD95MkU3REOCiXKgLTBE4RUYduVgwL'\n",
      "OAUTH_TOKEN = '23895220-N65laUC5ws6A3LWlN3VA7OnVRxAvd0tImjOlSOAYJ'\n",
      "OAUTH_TOKEN_SECRET = 'La8z1q65edywIXBqRVEB5AvS8uo5BCqTZ9a3GGklwa6cu'\n"
     ],
     "language": "python",
     "metadata": {},
     "outputs": [],
     "prompt_number": 3
    },
    {
     "cell_type": "code",
     "collapsed": false,
     "input": [
      "import twitter\n",
      "\n",
      "auth = twitter.oauth.OAuth(OAUTH_TOKEN, \n",
      "                           OAUTH_TOKEN_SECRET,\n",
      "                           CONSUMER_KEY,\n",
      "                           CONSUMER_SECRET)\n",
      "\n",
      "twitter_api = twitter.Twitter(auth=auth)\n",
      "\n",
      "print twitter_api"
     ],
     "language": "python",
     "metadata": {
      "slideshow": {
       "slide_type": "slide"
      }
     },
     "outputs": [
      {
       "output_type": "stream",
       "stream": "stdout",
       "text": [
        "<twitter.api.Twitter object at 0x104771e10>\n"
       ]
      }
     ],
     "prompt_number": 4
    },
    {
     "cell_type": "markdown",
     "metadata": {
      "slideshow": {
       "slide_type": "skip"
      }
     },
     "source": [
      "#### Using a library like this, we don't even need to specify the URL (that's handled internally)."
     ]
    },
    {
     "cell_type": "markdown",
     "metadata": {
      "slideshow": {
       "slide_type": "slide"
      }
     },
     "source": [
      "Using a library like this, it's easy to do something like search for tweets mentioning `#bigdata`  \n",
      "\n",
      "The results are transformed into a Python object (which in this case is a thin wrapper around a `dict`)"
     ]
    },
    {
     "cell_type": "code",
     "collapsed": false,
     "input": [
      "bigdata = twitter_api.search.tweets(q='#2chainz', count=5)\n",
      "\n",
      "print type(bigdata)\n",
      "bigdata.keys()\n"
     ],
     "language": "python",
     "metadata": {
      "slideshow": {
       "slide_type": "fragment"
      }
     },
     "outputs": [
      {
       "output_type": "stream",
       "stream": "stdout",
       "text": [
        "<class 'twitter.api.TwitterDictResponse'>\n"
       ]
      },
      {
       "metadata": {},
       "output_type": "pyout",
       "prompt_number": 5,
       "text": [
        "[u'search_metadata', u'statuses']"
       ]
      }
     ],
     "prompt_number": 5
    },
    {
     "cell_type": "code",
     "collapsed": false,
     "input": [
      "for status in bigdata['statuses']:\n",
      "#     print status.keys()\n",
      "#     print status.get('coordinates')\n",
      "     user = status.get('user')\n",
      "\n",
      "#     print user.get('name'), user.get('friends_count')\n",
      "     print user.keys()\n",
      "    "
     ],
     "language": "python",
     "metadata": {
      "slideshow": {
       "slide_type": "fragment"
      }
     },
     "outputs": [
      {
       "output_type": "stream",
       "stream": "stdout",
       "text": [
        "[u'follow_request_sent', u'profile_use_background_image', u'default_profile_image', u'id', u'profile_background_image_url_https', u'verified', u'profile_text_color', u'profile_image_url_https', u'profile_sidebar_fill_color', u'entities', u'followers_count', u'profile_sidebar_border_color', u'id_str', u'profile_background_color', u'listed_count', u'is_translation_enabled', u'utc_offset', u'statuses_count', u'description', u'friends_count', u'location', u'profile_link_color', u'profile_image_url', u'following', u'geo_enabled', u'profile_banner_url', u'profile_background_image_url', u'screen_name', u'lang', u'profile_background_tile', u'favourites_count', u'name', u'notifications', u'url', u'created_at', u'contributors_enabled', u'time_zone', u'protected', u'default_profile', u'is_translator']\n",
        "[u'follow_request_sent', u'profile_use_background_image', u'default_profile_image', u'id', u'profile_background_image_url_https', u'verified', u'profile_text_color', u'profile_image_url_https', u'profile_sidebar_fill_color', u'entities', u'followers_count', u'profile_sidebar_border_color', u'id_str', u'profile_background_color', u'listed_count', u'is_translation_enabled', u'utc_offset', u'statuses_count', u'description', u'friends_count', u'location', u'profile_link_color', u'profile_image_url', u'following', u'geo_enabled', u'profile_banner_url', u'profile_background_image_url', u'screen_name', u'lang', u'profile_background_tile', u'favourites_count', u'name', u'notifications', u'url', u'created_at', u'contributors_enabled', u'time_zone', u'protected', u'default_profile', u'is_translator']\n",
        "[u'follow_request_sent', u'profile_use_background_image', u'default_profile_image', u'id', u'profile_background_image_url_https', u'verified', u'profile_text_color', u'profile_image_url_https', u'profile_sidebar_fill_color', u'entities', u'followers_count', u'profile_sidebar_border_color', u'id_str', u'profile_background_color', u'listed_count', u'is_translation_enabled', u'utc_offset', u'statuses_count', u'description', u'friends_count', u'location', u'profile_link_color', u'profile_image_url', u'following', u'geo_enabled', u'profile_background_image_url', u'screen_name', u'lang', u'profile_background_tile', u'favourites_count', u'name', u'notifications', u'url', u'created_at', u'contributors_enabled', u'time_zone', u'protected', u'default_profile', u'is_translator']\n",
        "[u'follow_request_sent', u'profile_use_background_image', u'default_profile_image', u'id', u'profile_background_image_url_https', u'verified', u'profile_text_color', u'profile_image_url_https', u'profile_sidebar_fill_color', u'entities', u'followers_count', u'profile_sidebar_border_color', u'id_str', u'profile_background_color', u'listed_count', u'is_translation_enabled', u'utc_offset', u'statuses_count', u'description', u'friends_count', u'location', u'profile_link_color', u'profile_image_url', u'following', u'geo_enabled', u'profile_background_image_url', u'screen_name', u'lang', u'profile_background_tile', u'favourites_count', u'name', u'notifications', u'url', u'created_at', u'contributors_enabled', u'time_zone', u'protected', u'default_profile', u'is_translator']\n",
        "[u'follow_request_sent', u'profile_use_background_image', u'default_profile_image', u'id', u'profile_background_image_url_https', u'verified', u'profile_text_color', u'profile_image_url_https', u'profile_sidebar_fill_color', u'entities', u'followers_count', u'profile_sidebar_border_color', u'id_str', u'profile_background_color', u'listed_count', u'is_translation_enabled', u'utc_offset', u'statuses_count', u'description', u'friends_count', u'location', u'profile_link_color', u'profile_image_url', u'following', u'geo_enabled', u'profile_background_image_url', u'screen_name', u'lang', u'profile_background_tile', u'favourites_count', u'name', u'notifications', u'url', u'created_at', u'contributors_enabled', u'time_zone', u'protected', u'default_profile', u'is_translator']\n"
       ]
      }
     ],
     "prompt_number": 9
    },
    {
     "cell_type": "markdown",
     "metadata": {
      "slideshow": {
       "slide_type": "slide"
      }
     },
     "source": [
      "# Twitter lab\n",
      "[http://tinyurl.com/GAtwitterlab](http://nbviewer.ipython.org/github/ptwobrussell/Mining-the-Social-Web-2nd-Edition/blob/master/ipynb/Chapter%201%20-%20Mining%20Twitter.ipynb) up through Exercise 5"
     ]
    },
    {
     "cell_type": "markdown",
     "metadata": {},
     "source": [
      "Useful links:\n",
      "\n",
      "[Mining the Social Web](https://github.com/ptwobrussell/Mining-the-Social-Web-2nd-Edition)"
     ]
    },
    {
     "cell_type": "code",
     "collapsed": false,
     "input": [
      "!pip install twitter"
     ],
     "language": "python",
     "metadata": {},
     "outputs": [
      {
       "output_type": "stream",
       "stream": "stdout",
       "text": [
        "Requirement already satisfied (use --upgrade to upgrade): twitter in /anaconda/lib/python2.7/site-packages\r\n",
        "Cleaning up...\r\n"
       ]
      }
     ],
     "prompt_number": 8
    },
    {
     "cell_type": "code",
     "collapsed": false,
     "input": [
      "import twitter"
     ],
     "language": "python",
     "metadata": {},
     "outputs": [],
     "prompt_number": 9
    },
    {
     "cell_type": "code",
     "collapsed": false,
     "input": [
      "#CONSUMER_KEY = 'kU89M3iTVbkNhnA7b1WD9A'\n",
      "#CONSUMER_SECRET ='E2erSrX5DeUByOzm2Rn4uI1SsXI2v7UTvWSDe4sDs'\n",
      "#OAUTH_TOKEN = '54150531-lrpWlsun1FSq4zU81fFK03UFwLZPAfOYSr3zzY68T'\n",
      "#OAUTH_TOKEN_SECRET = '8JzJx1kPv3l6rq4IBFgPZYyUloMzcPKr2r7SrBstCmiz6'"
     ],
     "language": "python",
     "metadata": {},
     "outputs": [],
     "prompt_number": 10
    },
    {
     "cell_type": "code",
     "collapsed": false,
     "input": [
      "auth = twitter.oauth.OAuth(OAUTH_TOKEN, OAUTH_TOKEN_SECRET,\n",
      "                           CONSUMER_KEY, CONSUMER_SECRET)\n",
      "\n",
      "twitter_api = twitter.Twitter(auth=auth)\n",
      "\n",
      "# Nothing to see by displaying twitter_api except that it's now a\n",
      "# defined variable\n",
      "\n",
      "print twitter_api"
     ],
     "language": "python",
     "metadata": {},
     "outputs": [
      {
       "output_type": "stream",
       "stream": "stdout",
       "text": [
        "<twitter.api.Twitter object at 0x1050e2050>\n"
       ]
      }
     ],
     "prompt_number": 10
    },
    {
     "cell_type": "code",
     "collapsed": false,
     "input": [
      "# The Yahoo! Where On Earth ID for the entire world is 1.\n",
      "# See https://dev.twitter.com/docs/api/1.1/get/trends/place and\n",
      "# http://developer.yahoo.com/geo/geoplanet/\n",
      "\n",
      "WORLD_WOE_ID = 1\n",
      "US_WOE_ID = 23424977\n",
      "\n",
      "# Prefix ID with the underscore for query string parameterization.\n",
      "# Without the underscore, the twitter package appends the ID value\n",
      "# to the URL itself as a special case keyword argument.\n",
      "\n",
      "world_trends = twitter_api.trends.place(_id=WORLD_WOE_ID)\n",
      "us_trends = twitter_api.trends.place(_id=US_WOE_ID)\n",
      "\n",
      "print world_trends\n",
      "print\n",
      "print us_trends"
     ],
     "language": "python",
     "metadata": {},
     "outputs": [
      {
       "output_type": "stream",
       "stream": "stdout",
       "text": [
        "[{u'created_at': u'2014-06-14T17:37:17Z', u'trends': [{u'url': u'http://twitter.com/search?q=%23QueMeFalteTodoMenos', u'query': u'%23QueMeFalteTodoMenos', u'name': u'#QueMeFalteTodoMenos', u'promoted_content': None}, {u'url': u'http://twitter.com/search?q=%23COLGRE', u'query': u'%23COLGRE', u'name': u'#COLGRE', u'promoted_content': None}, {u'url': u'http://twitter.com/search?q=%23%D8%A7%D8%B3%D9%85_%D8%A8%D9%86%D8%AA_%D9%81%D8%AE%D9%85', u'query': u'%23%D8%A7%D8%B3%D9%85_%D8%A8%D9%86%D8%AA_%D9%81%D8%AE%D9%85', u'name': u'#\\u0627\\u0633\\u0645_\\u0628\\u0646\\u062a_\\u0641\\u062e\\u0645', u'promoted_content': None}, {u'url': u'http://twitter.com/search?q=%23GreeceVsColombia', u'query': u'%23GreeceVsColombia', u'name': u'#GreeceVsColombia', u'promoted_content': None}, {u'url': u'http://twitter.com/search?q=%22Alan+Irvine%22', u'query': u'%22Alan+Irvine%22', u'name': u'Alan Irvine', u'promoted_content': None}, {u'url': u'http://twitter.com/search?q=%23%D8%B4%D9%8A_%D8%AA%D8%AD%D8%A8%D9%87_%D9%81%D9%8A_%D8%B1%D9%85%D8%B6%D8%A7%D9%86', u'query': u'%23%D8%B4%D9%8A_%D8%AA%D8%AD%D8%A8%D9%87_%D9%81%D9%8A_%D8%B1%D9%85%D8%B6%D8%A7%D9%86', u'name': u'#\\u0634\\u064a_\\u062a\\u062d\\u0628\\u0647_\\u0641\\u064a_\\u0631\\u0645\\u0636\\u0627\\u0646', u'promoted_content': None}, {u'url': u'http://twitter.com/search?q=%22Sam+Kelly%22', u'query': u'%22Sam+Kelly%22', u'name': u'Sam Kelly', u'promoted_content': None}, {u'url': u'http://twitter.com/search?q=%22Happy+Flag+Day%22', u'query': u'%22Happy+Flag+Day%22', u'name': u'Happy Flag Day', u'promoted_content': None}, {u'url': u'http://twitter.com/search?q=%22Next+To+Your+Birth+Month%22', u'query': u'%22Next+To+Your+Birth+Month%22', u'name': u'Next To Your Birth Month', u'promoted_content': None}, {u'url': u'http://twitter.com/search?q=%22Buffon+Dipastikan+Absen+Lawan+Inggris%22', u'query': u'%22Buffon+Dipastikan+Absen+Lawan+Inggris%22', u'name': u'Buffon Dipastikan Absen Lawan Inggris', u'promoted_content': None}], u'as_of': u'2014-06-14T17:44:09Z', u'locations': [{u'woeid': 1, u'name': u'Worldwide'}]}]\n",
        "\n",
        "[{u'created_at': u'2014-06-14T17:37:17Z', u'trends': [{u'url': u'http://twitter.com/search?q=%23COLvsGRE', u'query': u'%23COLvsGRE', u'name': u'#COLvsGRE', u'promoted_content': None}, {u'url': u'http://twitter.com/search?q=%22Jackson+Martinez%22', u'query': u'%22Jackson+Martinez%22', u'name': u'Jackson Martinez', u'promoted_content': None}, {u'url': u'http://twitter.com/search?q=%22Happy+Flag+Day%22', u'query': u'%22Happy+Flag+Day%22', u'name': u'Happy Flag Day', u'promoted_content': None}, {u'url': u'http://twitter.com/search?q=%23GreeceVsColombia', u'query': u'%23GreeceVsColombia', u'name': u'#GreeceVsColombia', u'promoted_content': None}, {u'url': u'http://twitter.com/search?q=%23americanproblemsnight', u'query': u'%23americanproblemsnight', u'name': u'#americanproblemsnight', u'promoted_content': None}, {u'url': u'http://twitter.com/search?q=%22Santiago+Arias%22', u'query': u'%22Santiago+Arias%22', u'name': u'Santiago Arias', u'promoted_content': None}, {u'url': u'http://twitter.com/search?q=%22Next+To+Your+Birth+Month%22', u'query': u'%22Next+To+Your+Birth+Month%22', u'name': u'Next To Your Birth Month', u'promoted_content': None}, {u'url': u'http://twitter.com/search?q=%22Chuck+Noll%22', u'query': u'%22Chuck+Noll%22', u'name': u'Chuck Noll', u'promoted_content': None}, {u'url': u'http://twitter.com/search?q=%22James+Rodriguez%22', u'query': u'%22James+Rodriguez%22', u'name': u'James Rodriguez', u'promoted_content': None}, {u'url': u'http://twitter.com/search?q=%23UCIGrad', u'query': u'%23UCIGrad', u'name': u'#UCIGrad', u'promoted_content': None}], u'as_of': u'2014-06-14T17:44:09Z', u'locations': [{u'woeid': 23424977, u'name': u'United States'}]}]\n"
       ]
      }
     ],
     "prompt_number": 12
    },
    {
     "cell_type": "code",
     "collapsed": false,
     "input": [
      "import json\n",
      "\n",
      "print json.dumps(world_trends, indent=1)\n",
      "print\n",
      "print json.dumps(us_trends, indent=1)"
     ],
     "language": "python",
     "metadata": {},
     "outputs": [
      {
       "output_type": "stream",
       "stream": "stdout",
       "text": [
        "[\n",
        " {\n",
        "  \"created_at\": \"2014-06-14T17:37:17Z\", \n",
        "  \"trends\": [\n",
        "   {\n",
        "    \"url\": \"http://twitter.com/search?q=%23QueMeFalteTodoMenos\", \n",
        "    \"query\": \"%23QueMeFalteTodoMenos\", \n",
        "    \"name\": \"#QueMeFalteTodoMenos\", \n",
        "    \"promoted_content\": null\n",
        "   }, \n",
        "   {\n",
        "    \"url\": \"http://twitter.com/search?q=%23COLGRE\", \n",
        "    \"query\": \"%23COLGRE\", \n",
        "    \"name\": \"#COLGRE\", \n",
        "    \"promoted_content\": null\n",
        "   }, \n",
        "   {\n",
        "    \"url\": \"http://twitter.com/search?q=%23%D8%A7%D8%B3%D9%85_%D8%A8%D9%86%D8%AA_%D9%81%D8%AE%D9%85\", \n",
        "    \"query\": \"%23%D8%A7%D8%B3%D9%85_%D8%A8%D9%86%D8%AA_%D9%81%D8%AE%D9%85\", \n",
        "    \"name\": \"#\\u0627\\u0633\\u0645_\\u0628\\u0646\\u062a_\\u0641\\u062e\\u0645\", \n",
        "    \"promoted_content\": null\n",
        "   }, \n",
        "   {\n",
        "    \"url\": \"http://twitter.com/search?q=%23GreeceVsColombia\", \n",
        "    \"query\": \"%23GreeceVsColombia\", \n",
        "    \"name\": \"#GreeceVsColombia\", \n",
        "    \"promoted_content\": null\n",
        "   }, \n",
        "   {\n",
        "    \"url\": \"http://twitter.com/search?q=%22Alan+Irvine%22\", \n",
        "    \"query\": \"%22Alan+Irvine%22\", \n",
        "    \"name\": \"Alan Irvine\", \n",
        "    \"promoted_content\": null\n",
        "   }, \n",
        "   {\n",
        "    \"url\": \"http://twitter.com/search?q=%23%D8%B4%D9%8A_%D8%AA%D8%AD%D8%A8%D9%87_%D9%81%D9%8A_%D8%B1%D9%85%D8%B6%D8%A7%D9%86\", \n",
        "    \"query\": \"%23%D8%B4%D9%8A_%D8%AA%D8%AD%D8%A8%D9%87_%D9%81%D9%8A_%D8%B1%D9%85%D8%B6%D8%A7%D9%86\", \n",
        "    \"name\": \"#\\u0634\\u064a_\\u062a\\u062d\\u0628\\u0647_\\u0641\\u064a_\\u0631\\u0645\\u0636\\u0627\\u0646\", \n",
        "    \"promoted_content\": null\n",
        "   }, \n",
        "   {\n",
        "    \"url\": \"http://twitter.com/search?q=%22Sam+Kelly%22\", \n",
        "    \"query\": \"%22Sam+Kelly%22\", \n",
        "    \"name\": \"Sam Kelly\", \n",
        "    \"promoted_content\": null\n",
        "   }, \n",
        "   {\n",
        "    \"url\": \"http://twitter.com/search?q=%22Happy+Flag+Day%22\", \n",
        "    \"query\": \"%22Happy+Flag+Day%22\", \n",
        "    \"name\": \"Happy Flag Day\", \n",
        "    \"promoted_content\": null\n",
        "   }, \n",
        "   {\n",
        "    \"url\": \"http://twitter.com/search?q=%22Next+To+Your+Birth+Month%22\", \n",
        "    \"query\": \"%22Next+To+Your+Birth+Month%22\", \n",
        "    \"name\": \"Next To Your Birth Month\", \n",
        "    \"promoted_content\": null\n",
        "   }, \n",
        "   {\n",
        "    \"url\": \"http://twitter.com/search?q=%22Buffon+Dipastikan+Absen+Lawan+Inggris%22\", \n",
        "    \"query\": \"%22Buffon+Dipastikan+Absen+Lawan+Inggris%22\", \n",
        "    \"name\": \"Buffon Dipastikan Absen Lawan Inggris\", \n",
        "    \"promoted_content\": null\n",
        "   }\n",
        "  ], \n",
        "  \"as_of\": \"2014-06-14T17:44:09Z\", \n",
        "  \"locations\": [\n",
        "   {\n",
        "    \"woeid\": 1, \n",
        "    \"name\": \"Worldwide\"\n",
        "   }\n",
        "  ]\n",
        " }\n",
        "]\n",
        "\n",
        "[\n",
        " {\n",
        "  \"created_at\": \"2014-06-14T17:37:17Z\", \n",
        "  \"trends\": [\n",
        "   {\n",
        "    \"url\": \"http://twitter.com/search?q=%23COLvsGRE\", \n",
        "    \"query\": \"%23COLvsGRE\", \n",
        "    \"name\": \"#COLvsGRE\", \n",
        "    \"promoted_content\": null\n",
        "   }, \n",
        "   {\n",
        "    \"url\": \"http://twitter.com/search?q=%22Jackson+Martinez%22\", \n",
        "    \"query\": \"%22Jackson+Martinez%22\", \n",
        "    \"name\": \"Jackson Martinez\", \n",
        "    \"promoted_content\": null\n",
        "   }, \n",
        "   {\n",
        "    \"url\": \"http://twitter.com/search?q=%22Happy+Flag+Day%22\", \n",
        "    \"query\": \"%22Happy+Flag+Day%22\", \n",
        "    \"name\": \"Happy Flag Day\", \n",
        "    \"promoted_content\": null\n",
        "   }, \n",
        "   {\n",
        "    \"url\": \"http://twitter.com/search?q=%23GreeceVsColombia\", \n",
        "    \"query\": \"%23GreeceVsColombia\", \n",
        "    \"name\": \"#GreeceVsColombia\", \n",
        "    \"promoted_content\": null\n",
        "   }, \n",
        "   {\n",
        "    \"url\": \"http://twitter.com/search?q=%23americanproblemsnight\", \n",
        "    \"query\": \"%23americanproblemsnight\", \n",
        "    \"name\": \"#americanproblemsnight\", \n",
        "    \"promoted_content\": null\n",
        "   }, \n",
        "   {\n",
        "    \"url\": \"http://twitter.com/search?q=%22Santiago+Arias%22\", \n",
        "    \"query\": \"%22Santiago+Arias%22\", \n",
        "    \"name\": \"Santiago Arias\", \n",
        "    \"promoted_content\": null\n",
        "   }, \n",
        "   {\n",
        "    \"url\": \"http://twitter.com/search?q=%22Next+To+Your+Birth+Month%22\", \n",
        "    \"query\": \"%22Next+To+Your+Birth+Month%22\", \n",
        "    \"name\": \"Next To Your Birth Month\", \n",
        "    \"promoted_content\": null\n",
        "   }, \n",
        "   {\n",
        "    \"url\": \"http://twitter.com/search?q=%22Chuck+Noll%22\", \n",
        "    \"query\": \"%22Chuck+Noll%22\", \n",
        "    \"name\": \"Chuck Noll\", \n",
        "    \"promoted_content\": null\n",
        "   }, \n",
        "   {\n",
        "    \"url\": \"http://twitter.com/search?q=%22James+Rodriguez%22\", \n",
        "    \"query\": \"%22James+Rodriguez%22\", \n",
        "    \"name\": \"James Rodriguez\", \n",
        "    \"promoted_content\": null\n",
        "   }, \n",
        "   {\n",
        "    \"url\": \"http://twitter.com/search?q=%23UCIGrad\", \n",
        "    \"query\": \"%23UCIGrad\", \n",
        "    \"name\": \"#UCIGrad\", \n",
        "    \"promoted_content\": null\n",
        "   }\n",
        "  ], \n",
        "  \"as_of\": \"2014-06-14T17:44:09Z\", \n",
        "  \"locations\": [\n",
        "   {\n",
        "    \"woeid\": 23424977, \n",
        "    \"name\": \"United States\"\n",
        "   }\n",
        "  ]\n",
        " }\n",
        "]\n"
       ]
      }
     ],
     "prompt_number": 13
    },
    {
     "cell_type": "code",
     "collapsed": false,
     "input": [
      "world_trends_set = set([trend['name'] \n",
      "                        for trend in world_trends[0]['trends']])\n",
      "\n",
      "us_trends_set = set([trend['name'] \n",
      "                     for trend in us_trends[0]['trends']]) \n",
      "\n",
      "common_trends = world_trends_set.intersection(us_trends_set)\n",
      "\n",
      "print common_trends"
     ],
     "language": "python",
     "metadata": {},
     "outputs": [
      {
       "output_type": "stream",
       "stream": "stdout",
       "text": [
        "set([u'#GreeceVsColombia', u'Happy Flag Day', u'Next To Your Birth Month'])\n"
       ]
      }
     ],
     "prompt_number": 14
    },
    {
     "cell_type": "code",
     "collapsed": false,
     "input": [
      "# XXX: Set this variable to a trending topic, \n",
      "# or anything else for that matter. The example query below\n",
      "# was a trending topic when this content was being developed\n",
      "# and is used throughout the remainder of this chapter.\n",
      "\n",
      "q = '#GreeceVsColombia' \n",
      "\n",
      "count = 100\n",
      "\n",
      "# See https://dev.twitter.com/docs/api/1.1/get/search/tweets\n",
      "\n",
      "search_results = twitter_api.search.tweets(q=q, count=count)\n",
      "\n",
      "statuses = search_results['statuses']\n",
      "\n",
      "\n",
      "# Iterate through 5 more batches of results by following the cursor\n",
      "\n",
      "for _ in range(5):\n",
      "    print \"Length of statuses\", len(statuses)\n",
      "    try:\n",
      "        next_results = search_results['search_metadata']['next_results']\n",
      "    except KeyError, e: # No more results when next_results doesn't exist\n",
      "        break\n",
      "        \n",
      "    # Create a dictionary from next_results, which has the following form:\n",
      "    # ?max_id=313519052523986943&q=NCAA&include_entities=1\n",
      "    kwargs = dict([ kv.split('=') for kv in next_results[1:].split(\"&\") ])\n",
      "    \n",
      "    search_results = twitter_api.search.tweets(**kwargs)\n",
      "    statuses += search_results['statuses']\n",
      "\n",
      "# Show one sample search result by slicing the list...\n",
      "print json.dumps(statuses[2], indent=1)"
     ],
     "language": "python",
     "metadata": {},
     "outputs": [
      {
       "output_type": "stream",
       "stream": "stdout",
       "text": [
        "Length of statuses 98\n",
        "{\n",
        " \"contributors\": null, \n",
        " \"truncated\": false, \n",
        " \"text\": \"GOOOOOOOOOOOOAAAAAAALLL Colombia just 1 last time 3-0 in stoppage time #WorldCup #GreeceVsColombia\", \n",
        " \"in_reply_to_status_id\": null, \n",
        " \"id\": 477871064001703936, \n",
        " \"favorite_count\": 0, \n",
        " \"source\": \"<a href=\\\"http://twitter.com\\\" rel=\\\"nofollow\\\">Twitter Web Client</a>\", \n",
        " \"retweeted\": false, \n",
        " \"coordinates\": null, \n",
        " \"entities\": {\n",
        "  \"symbols\": [], \n",
        "  \"user_mentions\": [], \n",
        "  \"hashtags\": [\n",
        "   {\n",
        "    \"indices\": [\n",
        "     71, \n",
        "     80\n",
        "    ], \n",
        "    \"text\": \"WorldCup\"\n",
        "   }, \n",
        "   {\n",
        "    \"indices\": [\n",
        "     81, \n",
        "     98\n",
        "    ], \n",
        "    \"text\": \"GreeceVsColombia\"\n",
        "   }\n",
        "  ], \n",
        "  \"urls\": []\n",
        " }, \n",
        " \"in_reply_to_screen_name\": null, \n",
        " \"in_reply_to_user_id\": null, \n",
        " \"retweet_count\": 0, \n",
        " \"id_str\": \"477871064001703936\", \n",
        " \"favorited\": false, \n",
        " \"user\": {\n",
        "  \"follow_request_sent\": false, \n",
        "  \"profile_use_background_image\": true, \n",
        "  \"default_profile_image\": false, \n",
        "  \"id\": 1025719813, \n",
        "  \"profile_background_image_url_https\": \"https://abs.twimg.com/images/themes/theme1/bg.png\", \n",
        "  \"verified\": false, \n",
        "  \"profile_text_color\": \"333333\", \n",
        "  \"profile_image_url_https\": \"https://pbs.twimg.com/profile_images/378800000564315612/648416d90ddaec004412ce9874781a16_normal.jpeg\", \n",
        "  \"profile_sidebar_fill_color\": \"DDEEF6\", \n",
        "  \"entities\": {\n",
        "   \"description\": {\n",
        "    \"urls\": []\n",
        "   }\n",
        "  }, \n",
        "  \"followers_count\": 86, \n",
        "  \"profile_sidebar_border_color\": \"C0DEED\", \n",
        "  \"id_str\": \"1025719813\", \n",
        "  \"profile_background_color\": \"C0DEED\", \n",
        "  \"listed_count\": 2, \n",
        "  \"is_translation_enabled\": false, \n",
        "  \"utc_offset\": -14400, \n",
        "  \"statuses_count\": 8040, \n",
        "  \"description\": \"You do the stuff that most people wont, so you have what most people dont -Arel Moodie\", \n",
        "  \"friends_count\": 226, \n",
        "  \"location\": \"\", \n",
        "  \"profile_link_color\": \"FF9900\", \n",
        "  \"profile_image_url\": \"http://pbs.twimg.com/profile_images/378800000564315612/648416d90ddaec004412ce9874781a16_normal.jpeg\", \n",
        "  \"following\": false, \n",
        "  \"geo_enabled\": true, \n",
        "  \"profile_banner_url\": \"https://pbs.twimg.com/profile_banners/1025719813/1388712500\", \n",
        "  \"profile_background_image_url\": \"http://abs.twimg.com/images/themes/theme1/bg.png\", \n",
        "  \"screen_name\": \"ChessePizza14\", \n",
        "  \"lang\": \"en\", \n",
        "  \"profile_background_tile\": false, \n",
        "  \"favourites_count\": 24, \n",
        "  \"name\": \"Joe Smo\", \n",
        "  \"notifications\": false, \n",
        "  \"url\": null, \n",
        "  \"created_at\": \"Fri Dec 21 05:28:40 +0000 2012\", \n",
        "  \"contributors_enabled\": false, \n",
        "  \"time_zone\": \"Eastern Time (US & Canada)\", \n",
        "  \"protected\": false, \n",
        "  \"default_profile\": false, \n",
        "  \"is_translator\": false\n",
        " }, \n",
        " \"geo\": null, \n",
        " \"in_reply_to_user_id_str\": null, \n",
        " \"lang\": \"en\", \n",
        " \"created_at\": \"Sat Jun 14 17:51:54 +0000 2014\", \n",
        " \"in_reply_to_status_id_str\": null, \n",
        " \"place\": null, \n",
        " \"metadata\": {\n",
        "  \"iso_language_code\": \"en\", \n",
        "  \"result_type\": \"recent\"\n",
        " }\n",
        "}\n"
       ]
      }
     ],
     "prompt_number": 17
    },
    {
     "cell_type": "code",
     "collapsed": false,
     "input": [
      "\n",
      "\n",
      "status_texts = [ status['text'] \n",
      "                 for status in statuses ]\n",
      "\n",
      "screen_names = [ user_mention['screen_name'] \n",
      "                 for status in statuses\n",
      "                     for user_mention in status['entities']['user_mentions'] ]\n",
      "\n",
      "hashtags = [ hashtag['text'] \n",
      "             for status in statuses\n",
      "                 for hashtag in status['entities']['hashtags'] ]\n",
      "\n",
      "# Compute a collection of all words from all tweets\n",
      "words = [ w \n",
      "          for t in status_texts \n",
      "              for w in t.split() ]\n",
      "\n",
      "# Explore the first 5 items for each...\n",
      "\n",
      "print json.dumps(status_texts[0:5], indent=1)\n",
      "print json.dumps(screen_names[0:5], indent=1) \n",
      "print json.dumps(hashtags[0:5], indent=1)\n",
      "print json.dumps(words[0:5], indent=1)\n",
      "\n"
     ],
     "language": "python",
     "metadata": {},
     "outputs": [
      {
       "output_type": "stream",
       "stream": "stdout",
       "text": [
        "[\n",
        " \"\\u03a3\\u03bf\\u03b2\\u03b1\\u03c1\\u03ac \\u03c4\\u03ce\\u03c1\\u03b1... \\u03ba\\u03b1\\u03b9 \\u03c4\\u03c1\\u03af\\u03c4\\u03bf? #GreeceVsColombia\", \n",
        " \"RT @WetCaptain: \\u03bf\\u03b9 \\u03c0\\u03b5\\u03c1\\u03b9\\u03c3\\u03c3\\u03cc\\u03c4\\u03b5\\u03c1\\u03bf\\u03b9 \\u03c0\\u03b1\\u03af\\u03ba\\u03c4\\u03b5\\u03c2 \\u03c4\\u03b7\\u03c2 \\u03b5\\u03b8\\u03bd\\u03b9\\u03ba\\u03ae\\u03c2 \\u03b5\\u03af\\u03bd\\u03b1\\u03b9 \\u03c3\\u03c4\\u03b5\\u03bd\\u03b1\\u03c7\\u03c9\\u03c1\\u03b7\\u03bc\\u03ad\\u03bd\\u03bf\\u03b9 \\u03b3\\u03b9\\u03b1\\u03c4\\u03af \\u03bf\\u03b9 \\u03bc\\u03c0\\u03bb\\u03bf\\u03cd\\u03b6\\u03b5\\u03c2 \\u03b4\\u03b5\\u03bd \\u03b5\\u03af\\u03bd\\u03b1\\u03b9 \\u03b1\\u03bc\\u03ac\\u03bd\\u03b9\\u03ba\\u03b5\\u03c2 \\u03ba\\u03b1\\u03b9 \\u03bc\\u03b5 \\u03b2\\u03b1\\u03b8\\u03cd V  \\n#wc14gr #Gree\\u2026\", \n",
        " \"GOOOOOOOOOOOOAAAAAAALLL Colombia just 1 last time 3-0 in stoppage time #WorldCup #GreeceVsColombia\", \n",
        " \"\\u0394\\u03c5\\u03c3\\u03c4\\u03c5\\u03c7\\u03ce\\u03c2, \\u03c4\\u03bf\\u03bd \\u03ae\\u03c0\\u03b9\\u03b1\\u03bc\\u03b5\\u03bd... #GreeceVsColombia #wc14gr\", \n",
        " \"#GreeceVsColombia Gooooool!!!! 3-0 @jamesdrodriguez\"\n",
        "]\n",
        "[\n",
        " \"WetCaptain\", \n",
        " \"jamesdrodriguez\", \n",
        " \"tom_bentley90\", \n",
        " \"StattoWrexham\", \n",
        " \"Mariastela_Prd\"\n",
        "]\n",
        "[\n",
        " \"GreeceVsColombia\", \n",
        " \"wc14gr\", \n",
        " \"GreeceVsColombia\", \n",
        " \"WorldCup\", \n",
        " \"GreeceVsColombia\"\n",
        "]\n",
        "[\n",
        " \"\\u03a3\\u03bf\\u03b2\\u03b1\\u03c1\\u03ac\", \n",
        " \"\\u03c4\\u03ce\\u03c1\\u03b1...\", \n",
        " \"\\u03ba\\u03b1\\u03b9\", \n",
        " \"\\u03c4\\u03c1\\u03af\\u03c4\\u03bf?\", \n",
        " \"#GreeceVsColombia\"\n",
        "]\n"
       ]
      }
     ],
     "prompt_number": 18
    },
    {
     "cell_type": "code",
     "collapsed": false,
     "input": [
      "from collections import Counter\n",
      "\n",
      "for item in [words, screen_names, hashtags]:\n",
      "    c = Counter(item)\n",
      "    print c.most_common()[:10] # top 10\n",
      "    print\n",
      "\n"
     ],
     "language": "python",
     "metadata": {},
     "outputs": [
      {
       "output_type": "stream",
       "stream": "stdout",
       "text": [
        "[(u'#GreeceVsColombia', 86), (u'the', 34), (u'RT', 24), (u'#WorldCup', 17), (u'#WorldCup2014', 16), (u'referee', 16), (u'\\u03ba\\u03b1\\u03b9', 15), (u'#wc14gr', 15), (u'is', 12), (u'\\u03b5\\u03af\\u03bd\\u03b1\\u03b9', 11)]\n",
        "\n",
        "[(u'kennyflorian', 7), (u'WetCaptain', 5), (u'Mariastela_Prd', 3), (u'StattoWrexham', 1), (u'Pan_Bal', 1), (u'athenalovee', 1), (u'avraamtsaous', 1), (u'tom_bentley90', 1), (u'HTSportsNews', 1), (u'JohnStamos', 1)]\n",
        "\n",
        "[(u'GreeceVsColombia', 97), (u'WorldCup', 17), (u'WorldCup2014', 16), (u'wc14gr', 15), (u'COLvsGRE', 9), (u'COL', 3), (u'Mundial2014', 3), (u'Colombia', 3), (u'Brasil2014', 2), (u'COLGRE', 2)]\n",
        "\n"
       ]
      }
     ],
     "prompt_number": 19
    },
    {
     "cell_type": "code",
     "collapsed": false,
     "input": [],
     "language": "python",
     "metadata": {},
     "outputs": []
    }
   ],
   "metadata": {}
  }
 ]
}